{
 "cells": [
  {
   "attachments": {},
   "cell_type": "markdown",
   "metadata": {},
   "source": [
    "1. Import the csv file into a Data Frame.\n",
    "2. Identify the number of columns and check the size of the dataframe"
   ]
  },
  {
   "cell_type": "code",
   "execution_count": 43,
   "metadata": {},
   "outputs": [
    {
     "name": "stderr",
     "output_type": "stream",
     "text": [
      "/var/folders/06/t__b92xx3cv1zlsns9dz706h0000gn/T/ipykernel_53341/1350447619.py:3: DtypeWarning: Columns (47) have mixed types. Specify dtype option on import or set low_memory=False.\n",
      "  df = pd.read_csv('loan.csv')\n"
     ]
    },
    {
     "data": {
      "text/plain": [
       "Index(['id', 'member_id', 'loan_amnt', 'funded_amnt', 'funded_amnt_inv',\n",
       "       'term', 'int_rate', 'installment', 'grade', 'sub_grade',\n",
       "       ...\n",
       "       'num_tl_90g_dpd_24m', 'num_tl_op_past_12m', 'pct_tl_nvr_dlq',\n",
       "       'percent_bc_gt_75', 'pub_rec_bankruptcies', 'tax_liens',\n",
       "       'tot_hi_cred_lim', 'total_bal_ex_mort', 'total_bc_limit',\n",
       "       'total_il_high_credit_limit'],\n",
       "      dtype='object', length=111)"
      ]
     },
     "execution_count": 43,
     "metadata": {},
     "output_type": "execute_result"
    }
   ],
   "source": [
    "import pandas as pd\n",
    "\n",
    "df = pd.read_csv('loan.csv')\n",
    "\n",
    "df.columns\n"
   ]
  },
  {
   "attachments": {},
   "cell_type": "markdown",
   "metadata": {},
   "source": [
    "Checking if the columns have any null values but seems like the results are not so intuitive to read"
   ]
  },
  {
   "cell_type": "code",
   "execution_count": 44,
   "metadata": {},
   "outputs": [
    {
     "data": {
      "text/plain": [
       "12942"
      ]
     },
     "execution_count": 44,
     "metadata": {},
     "output_type": "execute_result"
    }
   ],
   "source": [
    "df.desc.isnull().sum()"
   ]
  },
  {
   "cell_type": "code",
   "execution_count": 45,
   "metadata": {},
   "outputs": [],
   "source": [
    "#df['total_bc_limit'].isnull().sum()\n",
    "#Understand the shape of the DataFrame\n",
    "df.shape\n",
    "#df.dropna(axis=1,how='all').dropna(how='all')\n",
    "#Drop the columns with all the null values\n",
    "nullDroppedDf = df.dropna(axis=1,how='all').dropna(how='all')\n",
    "\n",
    "\n"
   ]
  },
  {
   "attachments": {},
   "cell_type": "markdown",
   "metadata": {},
   "source": [
    "Get the list of all existing columns after deleting the columns with null values"
   ]
  },
  {
   "cell_type": "code",
   "execution_count": 46,
   "metadata": {},
   "outputs": [
    {
     "data": {
      "text/plain": [
       "array(['acc_now_delinq', 'addr_state', 'annual_inc', 'application_type',\n",
       "       'chargeoff_within_12_mths', 'collection_recovery_fee',\n",
       "       'collections_12_mths_ex_med', 'delinq_2yrs', 'delinq_amnt', 'desc',\n",
       "       'dti', 'earliest_cr_line', 'emp_length', 'emp_title',\n",
       "       'funded_amnt', 'funded_amnt_inv', 'grade', 'home_ownership', 'id',\n",
       "       'initial_list_status', 'inq_last_6mths', 'installment', 'int_rate',\n",
       "       'issue_d', 'last_credit_pull_d', 'last_pymnt_amnt', 'last_pymnt_d',\n",
       "       'loan_amnt', 'loan_status', 'member_id', 'mths_since_last_delinq',\n",
       "       'mths_since_last_record', 'next_pymnt_d', 'open_acc', 'out_prncp',\n",
       "       'out_prncp_inv', 'policy_code', 'pub_rec', 'pub_rec_bankruptcies',\n",
       "       'purpose', 'pymnt_plan', 'recoveries', 'revol_bal', 'revol_util',\n",
       "       'sub_grade', 'tax_liens', 'term', 'title', 'total_acc',\n",
       "       'total_pymnt', 'total_pymnt_inv', 'total_rec_int',\n",
       "       'total_rec_late_fee', 'total_rec_prncp', 'url',\n",
       "       'verification_status', 'zip_code'], dtype=object)"
      ]
     },
     "execution_count": 46,
     "metadata": {},
     "output_type": "execute_result"
    }
   ],
   "source": [
    "import numpy as np\n",
    "cols = np.array(nullDroppedDf.columns)\n",
    "cols.sort()\n",
    "cols"
   ]
  },
  {
   "attachments": {},
   "cell_type": "markdown",
   "metadata": {},
   "source": [
    "Get the list of all the columns which have unique values in all its rows"
   ]
  },
  {
   "cell_type": "code",
   "execution_count": 47,
   "metadata": {},
   "outputs": [
    {
     "data": {
      "text/plain": [
       "9"
      ]
     },
     "execution_count": 47,
     "metadata": {},
     "output_type": "execute_result"
    }
   ],
   "source": [
    "nullDroppedDf.shape\n",
    "#(39717, 57)\n",
    "uniquecols = [col for col in np.array(nullDroppedDf.columns) if nullDroppedDf[col].nunique() == 1]\n",
    "len(uniquecols)"
   ]
  },
  {
   "cell_type": "code",
   "execution_count": 48,
   "metadata": {},
   "outputs": [
    {
     "data": {
      "text/html": [
       "<div>\n",
       "<style scoped>\n",
       "    .dataframe tbody tr th:only-of-type {\n",
       "        vertical-align: middle;\n",
       "    }\n",
       "\n",
       "    .dataframe tbody tr th {\n",
       "        vertical-align: top;\n",
       "    }\n",
       "\n",
       "    .dataframe thead th {\n",
       "        text-align: right;\n",
       "    }\n",
       "</style>\n",
       "<table border=\"1\" class=\"dataframe\">\n",
       "  <thead>\n",
       "    <tr style=\"text-align: right;\">\n",
       "      <th></th>\n",
       "      <th>pymnt_plan</th>\n",
       "      <th>initial_list_status</th>\n",
       "      <th>collections_12_mths_ex_med</th>\n",
       "      <th>policy_code</th>\n",
       "      <th>application_type</th>\n",
       "      <th>acc_now_delinq</th>\n",
       "      <th>chargeoff_within_12_mths</th>\n",
       "      <th>delinq_amnt</th>\n",
       "      <th>tax_liens</th>\n",
       "    </tr>\n",
       "  </thead>\n",
       "  <tbody>\n",
       "    <tr>\n",
       "      <th>0</th>\n",
       "      <td>n</td>\n",
       "      <td>f</td>\n",
       "      <td>0.0</td>\n",
       "      <td>1</td>\n",
       "      <td>INDIVIDUAL</td>\n",
       "      <td>0</td>\n",
       "      <td>0.0</td>\n",
       "      <td>0</td>\n",
       "      <td>0.0</td>\n",
       "    </tr>\n",
       "    <tr>\n",
       "      <th>1</th>\n",
       "      <td>n</td>\n",
       "      <td>f</td>\n",
       "      <td>0.0</td>\n",
       "      <td>1</td>\n",
       "      <td>INDIVIDUAL</td>\n",
       "      <td>0</td>\n",
       "      <td>0.0</td>\n",
       "      <td>0</td>\n",
       "      <td>0.0</td>\n",
       "    </tr>\n",
       "    <tr>\n",
       "      <th>2</th>\n",
       "      <td>n</td>\n",
       "      <td>f</td>\n",
       "      <td>0.0</td>\n",
       "      <td>1</td>\n",
       "      <td>INDIVIDUAL</td>\n",
       "      <td>0</td>\n",
       "      <td>0.0</td>\n",
       "      <td>0</td>\n",
       "      <td>0.0</td>\n",
       "    </tr>\n",
       "    <tr>\n",
       "      <th>3</th>\n",
       "      <td>n</td>\n",
       "      <td>f</td>\n",
       "      <td>0.0</td>\n",
       "      <td>1</td>\n",
       "      <td>INDIVIDUAL</td>\n",
       "      <td>0</td>\n",
       "      <td>0.0</td>\n",
       "      <td>0</td>\n",
       "      <td>0.0</td>\n",
       "    </tr>\n",
       "    <tr>\n",
       "      <th>4</th>\n",
       "      <td>n</td>\n",
       "      <td>f</td>\n",
       "      <td>0.0</td>\n",
       "      <td>1</td>\n",
       "      <td>INDIVIDUAL</td>\n",
       "      <td>0</td>\n",
       "      <td>0.0</td>\n",
       "      <td>0</td>\n",
       "      <td>0.0</td>\n",
       "    </tr>\n",
       "  </tbody>\n",
       "</table>\n",
       "</div>"
      ],
      "text/plain": [
       "  pymnt_plan initial_list_status  collections_12_mths_ex_med  policy_code  \\\n",
       "0          n                   f                         0.0            1   \n",
       "1          n                   f                         0.0            1   \n",
       "2          n                   f                         0.0            1   \n",
       "3          n                   f                         0.0            1   \n",
       "4          n                   f                         0.0            1   \n",
       "\n",
       "  application_type  acc_now_delinq  chargeoff_within_12_mths  delinq_amnt  \\\n",
       "0       INDIVIDUAL               0                       0.0            0   \n",
       "1       INDIVIDUAL               0                       0.0            0   \n",
       "2       INDIVIDUAL               0                       0.0            0   \n",
       "3       INDIVIDUAL               0                       0.0            0   \n",
       "4       INDIVIDUAL               0                       0.0            0   \n",
       "\n",
       "   tax_liens  \n",
       "0        0.0  \n",
       "1        0.0  \n",
       "2        0.0  \n",
       "3        0.0  \n",
       "4        0.0  "
      ]
     },
     "execution_count": 48,
     "metadata": {},
     "output_type": "execute_result"
    }
   ],
   "source": [
    "nullDroppedDf[uniquecols].head()"
   ]
  },
  {
   "attachments": {},
   "cell_type": "markdown",
   "metadata": {},
   "source": [
    "Drop all the values with unique values because they will not provide any additional insights into the data"
   ]
  },
  {
   "cell_type": "code",
   "execution_count": 49,
   "metadata": {},
   "outputs": [],
   "source": [
    "uniqueDroppedDf = nullDroppedDf.drop(nullDroppedDf.columns[nullDroppedDf.nunique() == 1].tolist(),axis=1)\n",
    "#nullDroppedDf.to_excel('nullDropped.xlsx',index=False)"
   ]
  },
  {
   "attachments": {},
   "cell_type": "markdown",
   "metadata": {},
   "source": [
    "The shape of the dataframe after deleting the columns which are not relevant"
   ]
  },
  {
   "cell_type": "code",
   "execution_count": 50,
   "metadata": {},
   "outputs": [
    {
     "data": {
      "text/plain": [
       "(39717, 48)"
      ]
     },
     "execution_count": 50,
     "metadata": {},
     "output_type": "execute_result"
    }
   ],
   "source": [
    "uniqueDroppedDf.shape"
   ]
  },
  {
   "attachments": {},
   "cell_type": "markdown",
   "metadata": {},
   "source": [
    "Final list of columns on which the data analysis needs to be done"
   ]
  },
  {
   "cell_type": "code",
   "execution_count": 51,
   "metadata": {},
   "outputs": [
    {
     "data": {
      "text/plain": [
       "Index(['id', 'member_id', 'loan_amnt', 'funded_amnt', 'funded_amnt_inv',\n",
       "       'term', 'int_rate', 'installment', 'grade', 'sub_grade', 'emp_title',\n",
       "       'emp_length', 'home_ownership', 'annual_inc', 'verification_status',\n",
       "       'issue_d', 'loan_status', 'url', 'desc', 'purpose', 'title', 'zip_code',\n",
       "       'addr_state', 'dti', 'delinq_2yrs', 'earliest_cr_line',\n",
       "       'inq_last_6mths', 'mths_since_last_delinq', 'mths_since_last_record',\n",
       "       'open_acc', 'pub_rec', 'revol_bal', 'revol_util', 'total_acc',\n",
       "       'out_prncp', 'out_prncp_inv', 'total_pymnt', 'total_pymnt_inv',\n",
       "       'total_rec_prncp', 'total_rec_int', 'total_rec_late_fee', 'recoveries',\n",
       "       'collection_recovery_fee', 'last_pymnt_d', 'last_pymnt_amnt',\n",
       "       'next_pymnt_d', 'last_credit_pull_d', 'pub_rec_bankruptcies'],\n",
       "      dtype='object')"
      ]
     },
     "execution_count": 51,
     "metadata": {},
     "output_type": "execute_result"
    }
   ],
   "source": [
    "uniqueDroppedDf.columns"
   ]
  },
  {
   "attachments": {},
   "cell_type": "markdown",
   "metadata": {},
   "source": [
    "Understanding some of the columns in the Dataframe"
   ]
  },
  {
   "cell_type": "code",
   "execution_count": 52,
   "metadata": {},
   "outputs": [
    {
     "data": {
      "text/plain": [
       "delinq_2yrs\n",
       "0     35405\n",
       "1      3303\n",
       "2       687\n",
       "3       220\n",
       "4        62\n",
       "5        22\n",
       "6        10\n",
       "7         4\n",
       "8         2\n",
       "9         1\n",
       "11        1\n",
       "Name: count, dtype: int64"
      ]
     },
     "execution_count": 52,
     "metadata": {},
     "output_type": "execute_result"
    }
   ],
   "source": [
    "uniqueDroppedDf.delinq_2yrs.value_counts()"
   ]
  },
  {
   "cell_type": "code",
   "execution_count": 53,
   "metadata": {},
   "outputs": [
    {
     "data": {
      "text/plain": [
       "1"
      ]
     },
     "execution_count": 53,
     "metadata": {},
     "output_type": "execute_result"
    }
   ],
   "source": [
    "uniqueDroppedDf.columns\n",
    "df.chargeoff_within_12_mths.nunique()"
   ]
  },
  {
   "cell_type": "code",
   "execution_count": 54,
   "metadata": {},
   "outputs": [
    {
     "data": {
      "text/plain": [
       "collection_recovery_fee\n",
       "0.0000      35935\n",
       "2.0000         12\n",
       "1.2000         10\n",
       "3.7100          9\n",
       "1.8800          8\n",
       "            ...  \n",
       "3.7900          1\n",
       "773.4900        1\n",
       "272.8250        1\n",
       "1.7697          1\n",
       "0.2300          1\n",
       "Name: count, Length: 2616, dtype: int64"
      ]
     },
     "execution_count": 54,
     "metadata": {},
     "output_type": "execute_result"
    }
   ],
   "source": [
    "uniqueDroppedDf.collection_recovery_fee.value_counts()"
   ]
  },
  {
   "cell_type": "code",
   "execution_count": 55,
   "metadata": {},
   "outputs": [
    {
     "data": {
      "text/plain": [
       "recoveries\n",
       "0.00       35499\n",
       "11.29          4\n",
       "10.40          4\n",
       "10.66          3\n",
       "44.92          3\n",
       "           ...  \n",
       "764.69         1\n",
       "653.08         1\n",
       "1080.96        1\n",
       "878.19         1\n",
       "21.29          1\n",
       "Name: count, Length: 4040, dtype: int64"
      ]
     },
     "execution_count": 55,
     "metadata": {},
     "output_type": "execute_result"
    }
   ],
   "source": [
    "uniqueDroppedDf.recoveries.value_counts()"
   ]
  },
  {
   "cell_type": "code",
   "execution_count": 56,
   "metadata": {},
   "outputs": [],
   "source": [
    "new_column_names = {'acc_now_delinq':'num_of_curr_delq_acc',\n",
    "'collection_recovery_fee':'collection_fee_post_chargeoff',\n",
    "'collections_12_mths_ex_med':'num_of_coll_in_12_mnths_ex_med',\n",
    "'delinq_2yrs':'num_of_30plus_del_amt_for_2yrs',\n",
    "'delinq_amnt':'pastdue_owed_amt_on_delq_acct',\n",
    "'desc':'loan_desc_by_borrower',\n",
    "'dti':'debt_to_income_ratio',\n",
    "'earliest_cr_line':'mnth_earliest_crdt_line_opened',\n",
    "'emp_length':'emplyment_len_yrs',\n",
    "'emp_title':'borrower_emplymnt_title',\n",
    "'funded_amnt_inv':'total_committed_amnt_by_investors',\n",
    "'grade':'assgnd_loan_grade',\n",
    "'id':'loan_listing_id',\n",
    "'initial_list_status':'initial_loan_listing_status',\n",
    "'inq_last_6mths':'num_inq_past_6mnths',\n",
    "'installment':'mnthly_installment',\n",
    "'int_rate':'loan_interest_rate',\n",
    "'issue_d':'loan_funded_mnth',\n",
    "'last_credit_pull_d':'mnth_recent_credit_pulled',\n",
    "'last_pymnt_amnt':'last_total_pymnt_amnt_receivd',\n",
    "'last_pymnt_d':'last_mnth_was_pymnt_receivd',\n",
    "'loan_amnt':'curr_apprvd_loan_amnt',\n",
    "'term':'loan_term_mnths',\n",
    "'next_pymnt_d':'next_payment_date',\n",
    "'open_acc':'num_of_open_credit_accnts',\n",
    "'out_prncp':'outstanding_prinpl_amnt',\n",
    "'out_prncp_inv':'outstanding_prinpl_investors',\n",
    "'pub_rec':'num_derogtry_publc_recs',\n",
    "'pub_rec_bankruptcies':'num_publc_rec_bankruptcies',\n",
    "'purpose':'loan_purpose',\n",
    "'revol_util':'revolv_util_rate',\n",
    "'tax_liens':'num_tax_liens',\n",
    "'title':'loan_title',\n",
    "'total_acc':'num_total_curr_acc_lines_',\n",
    "'total_pymnt':'total_payments_received',\n",
    "'total_pymnt_inv':'total_payments_received_inv',\n",
    "'total_rec_int':'total_interest_received',\n",
    "'total_rec_late_fee':'total_late_fee_received',\n",
    "'total_rec_prncp':'total_principal_received',\n",
    "'verification_status':'incm_src_verification_status'\n",
    "}"
   ]
  },
  {
   "cell_type": "code",
   "execution_count": 57,
   "metadata": {},
   "outputs": [],
   "source": [
    "uniqueDroppedDf = uniqueDroppedDf.rename(columns=new_column_names)"
   ]
  },
  {
   "cell_type": "code",
   "execution_count": 58,
   "metadata": {},
   "outputs": [
    {
     "data": {
      "text/plain": [
       "Index(['loan_listing_id', 'member_id', 'curr_apprvd_loan_amnt', 'funded_amnt',\n",
       "       'total_committed_amnt_by_investors', 'loan_term_mnths',\n",
       "       'loan_interest_rate', 'mnthly_installment', 'assgnd_loan_grade',\n",
       "       'sub_grade', 'borrower_emplymnt_title', 'emplyment_len_yrs',\n",
       "       'home_ownership', 'annual_inc', 'incm_src_verification_status',\n",
       "       'loan_funded_mnth', 'loan_status', 'url', 'loan_desc_by_borrower',\n",
       "       'loan_purpose', 'loan_title', 'zip_code', 'addr_state',\n",
       "       'debt_to_income_ratio', 'num_of_30plus_del_amt_for_2yrs',\n",
       "       'mnth_earliest_crdt_line_opened', 'num_inq_past_6mnths',\n",
       "       'mths_since_last_delinq', 'mths_since_last_record',\n",
       "       'num_of_open_credit_accnts', 'num_derogtry_publc_recs', 'revol_bal',\n",
       "       'revolv_util_rate', 'num_total_curr_acc_lines_',\n",
       "       'outstanding_prinpl_amnt', 'outstanding_prinpl_investors',\n",
       "       'total_payments_received', 'total_payments_received_inv',\n",
       "       'total_principal_received', 'total_interest_received',\n",
       "       'total_late_fee_received', 'recoveries',\n",
       "       'collection_fee_post_chargeoff', 'last_mnth_was_pymnt_receivd',\n",
       "       'last_total_pymnt_amnt_receivd', 'next_payment_date',\n",
       "       'mnth_recent_credit_pulled', 'num_publc_rec_bankruptcies'],\n",
       "      dtype='object')"
      ]
     },
     "execution_count": 58,
     "metadata": {},
     "output_type": "execute_result"
    }
   ],
   "source": [
    "uniqueDroppedDf.columns"
   ]
  },
  {
   "cell_type": "code",
   "execution_count": 59,
   "metadata": {},
   "outputs": [
    {
     "name": "stdout",
     "output_type": "stream",
     "text": [
      "loan_listing_id                        int64\n",
      "member_id                              int64\n",
      "curr_apprvd_loan_amnt                  int64\n",
      "funded_amnt                            int64\n",
      "total_committed_amnt_by_investors    float64\n",
      "loan_term_mnths                       object\n",
      "loan_interest_rate                    object\n",
      "mnthly_installment                   float64\n",
      "assgnd_loan_grade                     object\n",
      "sub_grade                             object\n",
      "borrower_emplymnt_title               object\n",
      "emplyment_len_yrs                     object\n",
      "home_ownership                        object\n",
      "annual_inc                           float64\n",
      "incm_src_verification_status          object\n",
      "loan_funded_mnth                      object\n",
      "loan_status                           object\n",
      "url                                   object\n",
      "loan_desc_by_borrower                 object\n",
      "loan_purpose                          object\n",
      "loan_title                            object\n",
      "zip_code                              object\n",
      "addr_state                            object\n",
      "debt_to_income_ratio                 float64\n",
      "num_of_30plus_del_amt_for_2yrs         int64\n",
      "mnth_earliest_crdt_line_opened        object\n",
      "num_inq_past_6mnths                    int64\n",
      "mths_since_last_delinq               float64\n",
      "mths_since_last_record               float64\n",
      "num_of_open_credit_accnts              int64\n",
      "num_derogtry_publc_recs                int64\n",
      "revol_bal                              int64\n",
      "revolv_util_rate                      object\n",
      "num_total_curr_acc_lines_              int64\n",
      "outstanding_prinpl_amnt              float64\n",
      "outstanding_prinpl_investors         float64\n",
      "total_payments_received              float64\n",
      "total_payments_received_inv          float64\n",
      "total_principal_received             float64\n",
      "total_interest_received              float64\n",
      "total_late_fee_received              float64\n",
      "recoveries                           float64\n",
      "collection_fee_post_chargeoff        float64\n",
      "last_mnth_was_pymnt_receivd           object\n",
      "last_total_pymnt_amnt_receivd        float64\n",
      "next_payment_date                     object\n",
      "mnth_recent_credit_pulled             object\n",
      "num_publc_rec_bankruptcies           float64\n",
      "dtype: object\n"
     ]
    }
   ],
   "source": [
    "print(uniqueDroppedDf.dtypes)"
   ]
  },
  {
   "cell_type": "code",
   "execution_count": 60,
   "metadata": {},
   "outputs": [],
   "source": [
    "uniqueDroppedDf.num_publc_rec_bankruptcies = pd.to_datetime(uniqueDroppedDf.num_publc_rec_bankruptcies)\n",
    "uniqueDroppedDf.mnth_earliest_crdt_line_opened = pd.to_datetime(uniqueDroppedDf.mnth_earliest_crdt_line_opened,format='%b-%y')\n",
    "uniqueDroppedDf.next_payment_date = pd.to_datetime(uniqueDroppedDf.next_payment_date,format='%b-%y')\n",
    "uniqueDroppedDf.mnth_recent_credit_pulled = pd.to_datetime(uniqueDroppedDf.mnth_recent_credit_pulled,format='%b-%y')\n",
    "uniqueDroppedDf.loan_funded_mnth = pd.to_datetime(uniqueDroppedDf.loan_funded_mnth,format='%b-%y')\n",
    "uniqueDroppedDf.last_mnth_was_pymnt_receivd = pd.to_datetime(uniqueDroppedDf.last_mnth_was_pymnt_receivd,format='%b-%y')"
   ]
  },
  {
   "cell_type": "code",
   "execution_count": 61,
   "metadata": {},
   "outputs": [
    {
     "data": {
      "text/plain": [
       "<DatetimeArray>\n",
       "['2011-12-01 00:00:00', '2011-11-01 00:00:00', '2011-10-01 00:00:00',\n",
       " '2011-09-01 00:00:00', '2011-08-01 00:00:00', '2011-07-01 00:00:00',\n",
       " '2011-06-01 00:00:00', '2011-05-01 00:00:00', '2011-04-01 00:00:00',\n",
       " '2011-03-01 00:00:00', '2011-02-01 00:00:00', '2011-01-01 00:00:00',\n",
       " '2010-12-01 00:00:00', '2010-11-01 00:00:00', '2010-10-01 00:00:00',\n",
       " '2010-09-01 00:00:00', '2010-08-01 00:00:00', '2010-07-01 00:00:00',\n",
       " '2010-06-01 00:00:00', '2010-05-01 00:00:00', '2010-04-01 00:00:00',\n",
       " '2010-03-01 00:00:00', '2010-02-01 00:00:00', '2010-01-01 00:00:00',\n",
       " '2009-12-01 00:00:00', '2009-11-01 00:00:00', '2009-10-01 00:00:00',\n",
       " '2009-09-01 00:00:00', '2009-08-01 00:00:00', '2009-07-01 00:00:00',\n",
       " '2009-06-01 00:00:00', '2009-05-01 00:00:00', '2009-04-01 00:00:00',\n",
       " '2009-03-01 00:00:00', '2009-02-01 00:00:00', '2009-01-01 00:00:00',\n",
       " '2008-12-01 00:00:00', '2008-11-01 00:00:00', '2008-10-01 00:00:00',\n",
       " '2008-09-01 00:00:00', '2008-08-01 00:00:00', '2008-07-01 00:00:00',\n",
       " '2008-06-01 00:00:00', '2008-05-01 00:00:00', '2008-04-01 00:00:00',\n",
       " '2008-03-01 00:00:00', '2008-02-01 00:00:00', '2008-01-01 00:00:00',\n",
       " '2007-12-01 00:00:00', '2007-11-01 00:00:00', '2007-10-01 00:00:00',\n",
       " '2007-09-01 00:00:00', '2007-08-01 00:00:00', '2007-07-01 00:00:00',\n",
       " '2007-06-01 00:00:00']\n",
       "Length: 55, dtype: datetime64[ns]"
      ]
     },
     "execution_count": 61,
     "metadata": {},
     "output_type": "execute_result"
    }
   ],
   "source": [
    "uniqueDroppedDf.loan_funded_mnth.unique()"
   ]
  },
  {
   "cell_type": "code",
   "execution_count": 62,
   "metadata": {},
   "outputs": [],
   "source": [
    "uniqueDroppedDf.loan_term_mnths = uniqueDroppedDf.loan_term_mnths.str.replace(' months','')\n",
    "uniqueDroppedDf.loan_interest_rate = uniqueDroppedDf.loan_interest_rate.str.replace('%','')\n",
    "uniqueDroppedDf.revolv_util_rate = uniqueDroppedDf.revolv_util_rate.str.replace('%','')"
   ]
  },
  {
   "cell_type": "code",
   "execution_count": 63,
   "metadata": {},
   "outputs": [],
   "source": [
    "uniqueDroppedDf.loan_term_mnths = uniqueDroppedDf.loan_term_mnths.astype(int)\n",
    "uniqueDroppedDf.loan_interest_rate = uniqueDroppedDf.loan_interest_rate.astype(float)\n",
    "uniqueDroppedDf.revolv_util_rate = uniqueDroppedDf.revolv_util_rate.astype(float)"
   ]
  },
  {
   "cell_type": "code",
   "execution_count": 64,
   "metadata": {},
   "outputs": [
    {
     "data": {
      "text/plain": [
       "39717"
      ]
     },
     "execution_count": 64,
     "metadata": {},
     "output_type": "execute_result"
    }
   ],
   "source": [
    "uniqueDroppedDf.member_id.nunique()"
   ]
  },
  {
   "cell_type": "code",
   "execution_count": 65,
   "metadata": {},
   "outputs": [
    {
     "data": {
      "text/html": [
       "<div>\n",
       "<style scoped>\n",
       "    .dataframe tbody tr th:only-of-type {\n",
       "        vertical-align: middle;\n",
       "    }\n",
       "\n",
       "    .dataframe tbody tr th {\n",
       "        vertical-align: top;\n",
       "    }\n",
       "\n",
       "    .dataframe thead th {\n",
       "        text-align: right;\n",
       "    }\n",
       "</style>\n",
       "<table border=\"1\" class=\"dataframe\">\n",
       "  <thead>\n",
       "    <tr style=\"text-align: right;\">\n",
       "      <th></th>\n",
       "      <th></th>\n",
       "      <th>curr_apprvd_loan_amnt</th>\n",
       "      <th>funded_amnt</th>\n",
       "      <th>total_committed_amnt_by_investors</th>\n",
       "      <th>loan_term_mnths</th>\n",
       "      <th>loan_interest_rate</th>\n",
       "      <th>mnthly_installment</th>\n",
       "      <th>assgnd_loan_grade</th>\n",
       "      <th>sub_grade</th>\n",
       "      <th>borrower_emplymnt_title</th>\n",
       "      <th>emplyment_len_yrs</th>\n",
       "      <th>...</th>\n",
       "      <th>total_principal_received</th>\n",
       "      <th>total_interest_received</th>\n",
       "      <th>total_late_fee_received</th>\n",
       "      <th>recoveries</th>\n",
       "      <th>collection_fee_post_chargeoff</th>\n",
       "      <th>last_mnth_was_pymnt_receivd</th>\n",
       "      <th>last_total_pymnt_amnt_receivd</th>\n",
       "      <th>next_payment_date</th>\n",
       "      <th>mnth_recent_credit_pulled</th>\n",
       "      <th>num_publc_rec_bankruptcies</th>\n",
       "    </tr>\n",
       "    <tr>\n",
       "      <th>loan_listing_id</th>\n",
       "      <th>member_id</th>\n",
       "      <th></th>\n",
       "      <th></th>\n",
       "      <th></th>\n",
       "      <th></th>\n",
       "      <th></th>\n",
       "      <th></th>\n",
       "      <th></th>\n",
       "      <th></th>\n",
       "      <th></th>\n",
       "      <th></th>\n",
       "      <th></th>\n",
       "      <th></th>\n",
       "      <th></th>\n",
       "      <th></th>\n",
       "      <th></th>\n",
       "      <th></th>\n",
       "      <th></th>\n",
       "      <th></th>\n",
       "      <th></th>\n",
       "      <th></th>\n",
       "      <th></th>\n",
       "    </tr>\n",
       "  </thead>\n",
       "  <tbody>\n",
       "    <tr>\n",
       "      <th>1077501</th>\n",
       "      <th>1296599</th>\n",
       "      <td>5000</td>\n",
       "      <td>5000</td>\n",
       "      <td>4975.0</td>\n",
       "      <td>36</td>\n",
       "      <td>10.65</td>\n",
       "      <td>162.87</td>\n",
       "      <td>B</td>\n",
       "      <td>B2</td>\n",
       "      <td>NaN</td>\n",
       "      <td>10+ years</td>\n",
       "      <td>...</td>\n",
       "      <td>5000.00</td>\n",
       "      <td>863.16</td>\n",
       "      <td>0.00</td>\n",
       "      <td>0.00</td>\n",
       "      <td>0.00</td>\n",
       "      <td>2015-01-01</td>\n",
       "      <td>171.62</td>\n",
       "      <td>NaT</td>\n",
       "      <td>2016-05-01</td>\n",
       "      <td>1970-01-01</td>\n",
       "    </tr>\n",
       "    <tr>\n",
       "      <th>1077430</th>\n",
       "      <th>1314167</th>\n",
       "      <td>2500</td>\n",
       "      <td>2500</td>\n",
       "      <td>2500.0</td>\n",
       "      <td>60</td>\n",
       "      <td>15.27</td>\n",
       "      <td>59.83</td>\n",
       "      <td>C</td>\n",
       "      <td>C4</td>\n",
       "      <td>Ryder</td>\n",
       "      <td>&lt; 1 year</td>\n",
       "      <td>...</td>\n",
       "      <td>456.46</td>\n",
       "      <td>435.17</td>\n",
       "      <td>0.00</td>\n",
       "      <td>117.08</td>\n",
       "      <td>1.11</td>\n",
       "      <td>2013-04-01</td>\n",
       "      <td>119.66</td>\n",
       "      <td>NaT</td>\n",
       "      <td>2013-09-01</td>\n",
       "      <td>1970-01-01</td>\n",
       "    </tr>\n",
       "    <tr>\n",
       "      <th>1077175</th>\n",
       "      <th>1313524</th>\n",
       "      <td>2400</td>\n",
       "      <td>2400</td>\n",
       "      <td>2400.0</td>\n",
       "      <td>36</td>\n",
       "      <td>15.96</td>\n",
       "      <td>84.33</td>\n",
       "      <td>C</td>\n",
       "      <td>C5</td>\n",
       "      <td>NaN</td>\n",
       "      <td>10+ years</td>\n",
       "      <td>...</td>\n",
       "      <td>2400.00</td>\n",
       "      <td>605.67</td>\n",
       "      <td>0.00</td>\n",
       "      <td>0.00</td>\n",
       "      <td>0.00</td>\n",
       "      <td>2014-06-01</td>\n",
       "      <td>649.91</td>\n",
       "      <td>NaT</td>\n",
       "      <td>2016-05-01</td>\n",
       "      <td>1970-01-01</td>\n",
       "    </tr>\n",
       "    <tr>\n",
       "      <th>1076863</th>\n",
       "      <th>1277178</th>\n",
       "      <td>10000</td>\n",
       "      <td>10000</td>\n",
       "      <td>10000.0</td>\n",
       "      <td>36</td>\n",
       "      <td>13.49</td>\n",
       "      <td>339.31</td>\n",
       "      <td>C</td>\n",
       "      <td>C1</td>\n",
       "      <td>AIR RESOURCES BOARD</td>\n",
       "      <td>10+ years</td>\n",
       "      <td>...</td>\n",
       "      <td>10000.00</td>\n",
       "      <td>2214.92</td>\n",
       "      <td>16.97</td>\n",
       "      <td>0.00</td>\n",
       "      <td>0.00</td>\n",
       "      <td>2015-01-01</td>\n",
       "      <td>357.48</td>\n",
       "      <td>NaT</td>\n",
       "      <td>2016-04-01</td>\n",
       "      <td>1970-01-01</td>\n",
       "    </tr>\n",
       "    <tr>\n",
       "      <th>1075358</th>\n",
       "      <th>1311748</th>\n",
       "      <td>3000</td>\n",
       "      <td>3000</td>\n",
       "      <td>3000.0</td>\n",
       "      <td>60</td>\n",
       "      <td>12.69</td>\n",
       "      <td>67.79</td>\n",
       "      <td>B</td>\n",
       "      <td>B5</td>\n",
       "      <td>University Medical Group</td>\n",
       "      <td>1 year</td>\n",
       "      <td>...</td>\n",
       "      <td>2475.94</td>\n",
       "      <td>1037.39</td>\n",
       "      <td>0.00</td>\n",
       "      <td>0.00</td>\n",
       "      <td>0.00</td>\n",
       "      <td>2016-05-01</td>\n",
       "      <td>67.79</td>\n",
       "      <td>2016-06-01</td>\n",
       "      <td>2016-05-01</td>\n",
       "      <td>1970-01-01</td>\n",
       "    </tr>\n",
       "    <tr>\n",
       "      <th>...</th>\n",
       "      <th>...</th>\n",
       "      <td>...</td>\n",
       "      <td>...</td>\n",
       "      <td>...</td>\n",
       "      <td>...</td>\n",
       "      <td>...</td>\n",
       "      <td>...</td>\n",
       "      <td>...</td>\n",
       "      <td>...</td>\n",
       "      <td>...</td>\n",
       "      <td>...</td>\n",
       "      <td>...</td>\n",
       "      <td>...</td>\n",
       "      <td>...</td>\n",
       "      <td>...</td>\n",
       "      <td>...</td>\n",
       "      <td>...</td>\n",
       "      <td>...</td>\n",
       "      <td>...</td>\n",
       "      <td>...</td>\n",
       "      <td>...</td>\n",
       "      <td>...</td>\n",
       "    </tr>\n",
       "    <tr>\n",
       "      <th>92187</th>\n",
       "      <th>92174</th>\n",
       "      <td>2500</td>\n",
       "      <td>2500</td>\n",
       "      <td>1075.0</td>\n",
       "      <td>36</td>\n",
       "      <td>8.07</td>\n",
       "      <td>78.42</td>\n",
       "      <td>A</td>\n",
       "      <td>A4</td>\n",
       "      <td>FiSite Research</td>\n",
       "      <td>4 years</td>\n",
       "      <td>...</td>\n",
       "      <td>2500.00</td>\n",
       "      <td>322.97</td>\n",
       "      <td>0.00</td>\n",
       "      <td>0.00</td>\n",
       "      <td>0.00</td>\n",
       "      <td>2010-07-01</td>\n",
       "      <td>80.90</td>\n",
       "      <td>NaT</td>\n",
       "      <td>2010-06-01</td>\n",
       "      <td>NaT</td>\n",
       "    </tr>\n",
       "    <tr>\n",
       "      <th>90665</th>\n",
       "      <th>90607</th>\n",
       "      <td>8500</td>\n",
       "      <td>8500</td>\n",
       "      <td>875.0</td>\n",
       "      <td>36</td>\n",
       "      <td>10.28</td>\n",
       "      <td>275.38</td>\n",
       "      <td>C</td>\n",
       "      <td>C1</td>\n",
       "      <td>Squarewave Solutions, Ltd.</td>\n",
       "      <td>3 years</td>\n",
       "      <td>...</td>\n",
       "      <td>8500.00</td>\n",
       "      <td>1413.49</td>\n",
       "      <td>0.00</td>\n",
       "      <td>0.00</td>\n",
       "      <td>0.00</td>\n",
       "      <td>2010-07-01</td>\n",
       "      <td>281.94</td>\n",
       "      <td>NaT</td>\n",
       "      <td>2010-07-01</td>\n",
       "      <td>NaT</td>\n",
       "    </tr>\n",
       "    <tr>\n",
       "      <th>90395</th>\n",
       "      <th>90390</th>\n",
       "      <td>5000</td>\n",
       "      <td>5000</td>\n",
       "      <td>1325.0</td>\n",
       "      <td>36</td>\n",
       "      <td>8.07</td>\n",
       "      <td>156.84</td>\n",
       "      <td>A</td>\n",
       "      <td>A4</td>\n",
       "      <td>NaN</td>\n",
       "      <td>&lt; 1 year</td>\n",
       "      <td>...</td>\n",
       "      <td>5000.00</td>\n",
       "      <td>272.16</td>\n",
       "      <td>0.00</td>\n",
       "      <td>0.00</td>\n",
       "      <td>0.00</td>\n",
       "      <td>2008-04-01</td>\n",
       "      <td>0.00</td>\n",
       "      <td>NaT</td>\n",
       "      <td>2007-06-01</td>\n",
       "      <td>NaT</td>\n",
       "    </tr>\n",
       "    <tr>\n",
       "      <th>90376</th>\n",
       "      <th>89243</th>\n",
       "      <td>5000</td>\n",
       "      <td>5000</td>\n",
       "      <td>650.0</td>\n",
       "      <td>36</td>\n",
       "      <td>7.43</td>\n",
       "      <td>155.38</td>\n",
       "      <td>A</td>\n",
       "      <td>A2</td>\n",
       "      <td>NaN</td>\n",
       "      <td>&lt; 1 year</td>\n",
       "      <td>...</td>\n",
       "      <td>5000.00</td>\n",
       "      <td>174.20</td>\n",
       "      <td>0.00</td>\n",
       "      <td>0.00</td>\n",
       "      <td>0.00</td>\n",
       "      <td>2008-01-01</td>\n",
       "      <td>0.00</td>\n",
       "      <td>NaT</td>\n",
       "      <td>2007-06-01</td>\n",
       "      <td>NaT</td>\n",
       "    </tr>\n",
       "    <tr>\n",
       "      <th>87023</th>\n",
       "      <th>86999</th>\n",
       "      <td>7500</td>\n",
       "      <td>7500</td>\n",
       "      <td>800.0</td>\n",
       "      <td>36</td>\n",
       "      <td>13.75</td>\n",
       "      <td>255.43</td>\n",
       "      <td>E</td>\n",
       "      <td>E2</td>\n",
       "      <td>Evergreen Center</td>\n",
       "      <td>&lt; 1 year</td>\n",
       "      <td>...</td>\n",
       "      <td>7500.00</td>\n",
       "      <td>1695.26</td>\n",
       "      <td>0.00</td>\n",
       "      <td>0.00</td>\n",
       "      <td>0.00</td>\n",
       "      <td>2010-06-01</td>\n",
       "      <td>256.59</td>\n",
       "      <td>NaT</td>\n",
       "      <td>2010-06-01</td>\n",
       "      <td>NaT</td>\n",
       "    </tr>\n",
       "  </tbody>\n",
       "</table>\n",
       "<p>39717 rows × 46 columns</p>\n",
       "</div>"
      ],
      "text/plain": [
       "                           curr_apprvd_loan_amnt  funded_amnt  \\\n",
       "loan_listing_id member_id                                       \n",
       "1077501         1296599                     5000         5000   \n",
       "1077430         1314167                     2500         2500   \n",
       "1077175         1313524                     2400         2400   \n",
       "1076863         1277178                    10000        10000   \n",
       "1075358         1311748                     3000         3000   \n",
       "...                                          ...          ...   \n",
       "92187           92174                       2500         2500   \n",
       "90665           90607                       8500         8500   \n",
       "90395           90390                       5000         5000   \n",
       "90376           89243                       5000         5000   \n",
       "87023           86999                       7500         7500   \n",
       "\n",
       "                           total_committed_amnt_by_investors  loan_term_mnths  \\\n",
       "loan_listing_id member_id                                                       \n",
       "1077501         1296599                               4975.0               36   \n",
       "1077430         1314167                               2500.0               60   \n",
       "1077175         1313524                               2400.0               36   \n",
       "1076863         1277178                              10000.0               36   \n",
       "1075358         1311748                               3000.0               60   \n",
       "...                                                      ...              ...   \n",
       "92187           92174                                 1075.0               36   \n",
       "90665           90607                                  875.0               36   \n",
       "90395           90390                                 1325.0               36   \n",
       "90376           89243                                  650.0               36   \n",
       "87023           86999                                  800.0               36   \n",
       "\n",
       "                           loan_interest_rate  mnthly_installment  \\\n",
       "loan_listing_id member_id                                           \n",
       "1077501         1296599                 10.65              162.87   \n",
       "1077430         1314167                 15.27               59.83   \n",
       "1077175         1313524                 15.96               84.33   \n",
       "1076863         1277178                 13.49              339.31   \n",
       "1075358         1311748                 12.69               67.79   \n",
       "...                                       ...                 ...   \n",
       "92187           92174                    8.07               78.42   \n",
       "90665           90607                   10.28              275.38   \n",
       "90395           90390                    8.07              156.84   \n",
       "90376           89243                    7.43              155.38   \n",
       "87023           86999                   13.75              255.43   \n",
       "\n",
       "                          assgnd_loan_grade sub_grade  \\\n",
       "loan_listing_id member_id                               \n",
       "1077501         1296599                   B        B2   \n",
       "1077430         1314167                   C        C4   \n",
       "1077175         1313524                   C        C5   \n",
       "1076863         1277178                   C        C1   \n",
       "1075358         1311748                   B        B5   \n",
       "...                                     ...       ...   \n",
       "92187           92174                     A        A4   \n",
       "90665           90607                     C        C1   \n",
       "90395           90390                     A        A4   \n",
       "90376           89243                     A        A2   \n",
       "87023           86999                     E        E2   \n",
       "\n",
       "                              borrower_emplymnt_title emplyment_len_yrs  ...  \\\n",
       "loan_listing_id member_id                                                ...   \n",
       "1077501         1296599                           NaN         10+ years  ...   \n",
       "1077430         1314167                         Ryder          < 1 year  ...   \n",
       "1077175         1313524                           NaN         10+ years  ...   \n",
       "1076863         1277178           AIR RESOURCES BOARD         10+ years  ...   \n",
       "1075358         1311748      University Medical Group            1 year  ...   \n",
       "...                                               ...               ...  ...   \n",
       "92187           92174                 FiSite Research           4 years  ...   \n",
       "90665           90607      Squarewave Solutions, Ltd.           3 years  ...   \n",
       "90395           90390                             NaN          < 1 year  ...   \n",
       "90376           89243                             NaN          < 1 year  ...   \n",
       "87023           86999                Evergreen Center          < 1 year  ...   \n",
       "\n",
       "                          total_principal_received  total_interest_received  \\\n",
       "loan_listing_id member_id                                                     \n",
       "1077501         1296599                    5000.00                   863.16   \n",
       "1077430         1314167                     456.46                   435.17   \n",
       "1077175         1313524                    2400.00                   605.67   \n",
       "1076863         1277178                   10000.00                  2214.92   \n",
       "1075358         1311748                    2475.94                  1037.39   \n",
       "...                                            ...                      ...   \n",
       "92187           92174                      2500.00                   322.97   \n",
       "90665           90607                      8500.00                  1413.49   \n",
       "90395           90390                      5000.00                   272.16   \n",
       "90376           89243                      5000.00                   174.20   \n",
       "87023           86999                      7500.00                  1695.26   \n",
       "\n",
       "                          total_late_fee_received recoveries  \\\n",
       "loan_listing_id member_id                                      \n",
       "1077501         1296599                      0.00       0.00   \n",
       "1077430         1314167                      0.00     117.08   \n",
       "1077175         1313524                      0.00       0.00   \n",
       "1076863         1277178                     16.97       0.00   \n",
       "1075358         1311748                      0.00       0.00   \n",
       "...                                           ...        ...   \n",
       "92187           92174                        0.00       0.00   \n",
       "90665           90607                        0.00       0.00   \n",
       "90395           90390                        0.00       0.00   \n",
       "90376           89243                        0.00       0.00   \n",
       "87023           86999                        0.00       0.00   \n",
       "\n",
       "                          collection_fee_post_chargeoff  \\\n",
       "loan_listing_id member_id                                 \n",
       "1077501         1296599                            0.00   \n",
       "1077430         1314167                            1.11   \n",
       "1077175         1313524                            0.00   \n",
       "1076863         1277178                            0.00   \n",
       "1075358         1311748                            0.00   \n",
       "...                                                 ...   \n",
       "92187           92174                              0.00   \n",
       "90665           90607                              0.00   \n",
       "90395           90390                              0.00   \n",
       "90376           89243                              0.00   \n",
       "87023           86999                              0.00   \n",
       "\n",
       "                          last_mnth_was_pymnt_receivd  \\\n",
       "loan_listing_id member_id                               \n",
       "1077501         1296599                    2015-01-01   \n",
       "1077430         1314167                    2013-04-01   \n",
       "1077175         1313524                    2014-06-01   \n",
       "1076863         1277178                    2015-01-01   \n",
       "1075358         1311748                    2016-05-01   \n",
       "...                                               ...   \n",
       "92187           92174                      2010-07-01   \n",
       "90665           90607                      2010-07-01   \n",
       "90395           90390                      2008-04-01   \n",
       "90376           89243                      2008-01-01   \n",
       "87023           86999                      2010-06-01   \n",
       "\n",
       "                          last_total_pymnt_amnt_receivd next_payment_date  \\\n",
       "loan_listing_id member_id                                                   \n",
       "1077501         1296599                          171.62               NaT   \n",
       "1077430         1314167                          119.66               NaT   \n",
       "1077175         1313524                          649.91               NaT   \n",
       "1076863         1277178                          357.48               NaT   \n",
       "1075358         1311748                           67.79        2016-06-01   \n",
       "...                                                 ...               ...   \n",
       "92187           92174                             80.90               NaT   \n",
       "90665           90607                            281.94               NaT   \n",
       "90395           90390                              0.00               NaT   \n",
       "90376           89243                              0.00               NaT   \n",
       "87023           86999                            256.59               NaT   \n",
       "\n",
       "                          mnth_recent_credit_pulled num_publc_rec_bankruptcies  \n",
       "loan_listing_id member_id                                                       \n",
       "1077501         1296599                  2016-05-01                 1970-01-01  \n",
       "1077430         1314167                  2013-09-01                 1970-01-01  \n",
       "1077175         1313524                  2016-05-01                 1970-01-01  \n",
       "1076863         1277178                  2016-04-01                 1970-01-01  \n",
       "1075358         1311748                  2016-05-01                 1970-01-01  \n",
       "...                                             ...                        ...  \n",
       "92187           92174                    2010-06-01                        NaT  \n",
       "90665           90607                    2010-07-01                        NaT  \n",
       "90395           90390                    2007-06-01                        NaT  \n",
       "90376           89243                    2007-06-01                        NaT  \n",
       "87023           86999                    2010-06-01                        NaT  \n",
       "\n",
       "[39717 rows x 46 columns]"
      ]
     },
     "execution_count": 65,
     "metadata": {},
     "output_type": "execute_result"
    }
   ],
   "source": [
    "uniqueDroppedDf.set_index(keys=['loan_listing_id','member_id'],inplace=True)\n",
    "uniqueDroppedDf"
   ]
  },
  {
   "cell_type": "code",
   "execution_count": null,
   "metadata": {},
   "outputs": [],
   "source": []
  },
  {
   "cell_type": "code",
   "execution_count": 66,
   "metadata": {},
   "outputs": [
    {
     "data": {
      "text/plain": [
       "<BarContainer object of 11 artists>"
      ]
     },
     "execution_count": 66,
     "metadata": {},
     "output_type": "execute_result"
    },
    {
     "data": {
      "image/png": "[encoded data removed]",
      "text/plain": [
       "<Figure size 640x480 with 1 Axes>"
      ]
     },
     "metadata": {},
     "output_type": "display_data"
    }
   ],
   "source": [
    "import matplotlib.pyplot as plt\n",
    "\n",
    "counts = uniqueDroppedDf.num_of_30plus_del_amt_for_2yrs.value_counts()\n",
    "plt.bar(counts.index,counts.values)\n",
    "\n",
    "\n",
    "\n",
    "\n",
    "#uniqueDroppedDf.num_of_30plus_del_amt_for_2yrs"
   ]
  },
  {
   "cell_type": "code",
   "execution_count": null,
   "metadata": {},
   "outputs": [],
   "source": []
  },
  {
   "cell_type": "code",
   "execution_count": 67,
   "metadata": {},
   "outputs": [
    {
     "data": {
      "text/plain": [
       "curr_apprvd_loan_amnt                    0\n",
       "funded_amnt                              0\n",
       "total_committed_amnt_by_investors        0\n",
       "loan_term_mnths                          0\n",
       "loan_interest_rate                       0\n",
       "mnthly_installment                       0\n",
       "assgnd_loan_grade                        0\n",
       "sub_grade                                0\n",
       "borrower_emplymnt_title               2459\n",
       "emplyment_len_yrs                     1075\n",
       "home_ownership                           0\n",
       "annual_inc                               0\n",
       "incm_src_verification_status             0\n",
       "loan_funded_mnth                         0\n",
       "loan_status                              0\n",
       "url                                      0\n",
       "loan_desc_by_borrower                12942\n",
       "loan_purpose                             0\n",
       "loan_title                              11\n",
       "zip_code                                 0\n",
       "addr_state                               0\n",
       "debt_to_income_ratio                     0\n",
       "num_of_30plus_del_amt_for_2yrs           0\n",
       "mnth_earliest_crdt_line_opened           0\n",
       "num_inq_past_6mnths                      0\n",
       "mths_since_last_delinq               25682\n",
       "mths_since_last_record               36931\n",
       "num_of_open_credit_accnts                0\n",
       "num_derogtry_publc_recs                  0\n",
       "revol_bal                                0\n",
       "revolv_util_rate                        50\n",
       "num_total_curr_acc_lines_                0\n",
       "outstanding_prinpl_amnt                  0\n",
       "outstanding_prinpl_investors             0\n",
       "total_payments_received                  0\n",
       "total_payments_received_inv              0\n",
       "total_principal_received                 0\n",
       "total_interest_received                  0\n",
       "total_late_fee_received                  0\n",
       "recoveries                               0\n",
       "collection_fee_post_chargeoff            0\n",
       "last_mnth_was_pymnt_receivd             71\n",
       "last_total_pymnt_amnt_receivd            0\n",
       "next_payment_date                    38577\n",
       "mnth_recent_credit_pulled                2\n",
       "num_publc_rec_bankruptcies             697\n",
       "dtype: int64"
      ]
     },
     "execution_count": 67,
     "metadata": {},
     "output_type": "execute_result"
    }
   ],
   "source": [
    "udf = uniqueDroppedDf\n",
    "\n",
    "udf.isna().sum()\n",
    "\n",
    "#uniqueDroppedDf.to_excel('loan_filtered.xlsx')"
   ]
  },
  {
   "cell_type": "code",
   "execution_count": 68,
   "metadata": {},
   "outputs": [],
   "source": [
    "udf.mths_since_last_delinq.value_counts()\n",
    "udf.mths_since_last_delinq.fillna(0,inplace=True)"
   ]
  },
  {
   "cell_type": "code",
   "execution_count": 69,
   "metadata": {},
   "outputs": [
    {
     "data": {
      "text/plain": [
       "loan_listing_id  member_id\n",
       "1077501          1296599       0\n",
       "1077430          1314167       0\n",
       "1077175          1313524       0\n",
       "1076863          1277178      35\n",
       "1075358          1311748      38\n",
       "                              ..\n",
       "92187            92174         0\n",
       "90665            90607         5\n",
       "90395            90390         0\n",
       "90376            89243         0\n",
       "87023            86999        11\n",
       "Name: mths_since_last_delinq, Length: 39717, dtype: int64"
      ]
     },
     "execution_count": 69,
     "metadata": {},
     "output_type": "execute_result"
    }
   ],
   "source": [
    "udf.mths_since_last_delinq.astype(int)"
   ]
  },
  {
   "cell_type": "code",
   "execution_count": 70,
   "metadata": {},
   "outputs": [
    {
     "data": {
      "text/plain": [
       "count    39717.000000\n",
       "mean     11219.443815\n",
       "std       7456.670694\n",
       "min        500.000000\n",
       "25%       5500.000000\n",
       "50%      10000.000000\n",
       "75%      15000.000000\n",
       "max      35000.000000\n",
       "Name: curr_apprvd_loan_amnt, dtype: float64"
      ]
     },
     "execution_count": 70,
     "metadata": {},
     "output_type": "execute_result"
    }
   ],
   "source": [
    "import seaborn as sns\n",
    "\n",
    "udf.curr_apprvd_loan_amnt.describe()"
   ]
  },
  {
   "cell_type": "code",
   "execution_count": 71,
   "metadata": {},
   "outputs": [
    {
     "data": {
      "text/plain": [
       "-0.0344515578834911"
      ]
     },
     "execution_count": 71,
     "metadata": {},
     "output_type": "execute_result"
    }
   ],
   "source": [
    "udf['debt_to_income_ratio'].corr(udf['num_of_30plus_del_amt_for_2yrs'])"
   ]
  },
  {
   "cell_type": "code",
   "execution_count": 72,
   "metadata": {},
   "outputs": [],
   "source": [
    "udf['incm_src_verification_status'].value_counts()\n",
    "chrgdOffLoandf = udf[udf.loan_status == 'Charged Off']"
   ]
  },
  {
   "cell_type": "code",
   "execution_count": 73,
   "metadata": {},
   "outputs": [
    {
     "data": {
      "text/plain": [
       "<BarContainer object of 3 artists>"
      ]
     },
     "execution_count": 73,
     "metadata": {},
     "output_type": "execute_result"
    },
    {
     "data": {
      "image/png": "[encoded data removed]",
      "text/plain": [
       "<Figure size 640x480 with 1 Axes>"
      ]
     },
     "metadata": {},
     "output_type": "display_data"
    }
   ],
   "source": [
    "import matplotlib.pyplot as plt\n",
    "#plt.bar(chrgdOffLoandf['incm_src_verification_status'].value_counts().index,chrgdOffLoandf['incm_src_verification_status'].value_counts().count)\n",
    "counted = udf['incm_src_verification_status'].value_counts()\n",
    "plt.bar(counted.index,counted.values)"
   ]
  },
  {
   "cell_type": "code",
   "execution_count": 74,
   "metadata": {},
   "outputs": [
    {
     "data": {
      "text/plain": [
       "sub_grade\n",
       "B3    2917\n",
       "A4    2886\n",
       "A5    2742\n",
       "B5    2704\n",
       "B4    2512\n",
       "C1    2136\n",
       "B2    2057\n",
       "C2    2011\n",
       "B1    1830\n",
       "A3    1810\n",
       "C3    1529\n",
       "A2    1508\n",
       "D2    1348\n",
       "C4    1236\n",
       "C5    1186\n",
       "D3    1173\n",
       "A1    1139\n",
       "D4     981\n",
       "D1     931\n",
       "D5     874\n",
       "E1     763\n",
       "E2     656\n",
       "E3     553\n",
       "E4     454\n",
       "E5     416\n",
       "F1     329\n",
       "F2     249\n",
       "F3     185\n",
       "F4     168\n",
       "F5     118\n",
       "G1     104\n",
       "G2      78\n",
       "G4      56\n",
       "G3      48\n",
       "G5      30\n",
       "Name: count, dtype: int64"
      ]
     },
     "execution_count": 74,
     "metadata": {},
     "output_type": "execute_result"
    }
   ],
   "source": [
    "udf.sub_grade.value_counts()"
   ]
  },
  {
   "cell_type": "code",
   "execution_count": 75,
   "metadata": {},
   "outputs": [
    {
     "data": {
      "image/png": "[encoded data removed]",
      "text/plain": [
       "<Figure size 1000x480 with 1 Axes>"
      ]
     },
     "metadata": {},
     "output_type": "display_data"
    }
   ],
   "source": [
    "\n",
    "sorted_data = sorted(zip(udf['sub_grade'], udf['loan_interest_rate']))\n",
    "sorted_x, sorted_y = zip(*sorted_data)\n",
    "\n",
    "# Create the Figure and Axes objects\n",
    "fig, ax = plt.subplots()\n",
    "fig.set_figwidth(10)\n",
    "\n",
    "# Create the scatter plot\n",
    "ax.scatter(sorted_x, sorted_y)\n",
    "\n",
    "# Customize the chart\n",
    "ax.set_title('Sub Grade influence on interest rates')\n",
    "ax.set_xlabel('sub grade')\n",
    "ax.set_ylabel('interest rate')\n",
    "ax.set_facecolor('lightgray')\n",
    "\n",
    "# Show the chart\n",
    "plt.show()\n"
   ]
  },
  {
   "attachments": {},
   "cell_type": "markdown",
   "metadata": {},
   "source": [
    "Fully Paid     32950\n",
    "Charged Off     5627\n",
    "Current         1140"
   ]
  },
  {
   "cell_type": "code",
   "execution_count": 76,
   "metadata": {},
   "outputs": [
    {
     "data": {
      "text/html": [
       "<div>\n",
       "<style scoped>\n",
       "    .dataframe tbody tr th:only-of-type {\n",
       "        vertical-align: middle;\n",
       "    }\n",
       "\n",
       "    .dataframe tbody tr th {\n",
       "        vertical-align: top;\n",
       "    }\n",
       "\n",
       "    .dataframe thead th {\n",
       "        text-align: right;\n",
       "    }\n",
       "</style>\n",
       "<table border=\"1\" class=\"dataframe\">\n",
       "  <thead>\n",
       "    <tr style=\"text-align: right;\">\n",
       "      <th>loan_status</th>\n",
       "      <th>Charged Off</th>\n",
       "      <th>Current</th>\n",
       "      <th>Fully Paid</th>\n",
       "    </tr>\n",
       "    <tr>\n",
       "      <th>assgnd_loan_grade</th>\n",
       "      <th></th>\n",
       "      <th></th>\n",
       "      <th></th>\n",
       "    </tr>\n",
       "  </thead>\n",
       "  <tbody>\n",
       "    <tr>\n",
       "      <th>A</th>\n",
       "      <td>602</td>\n",
       "      <td>40</td>\n",
       "      <td>9443</td>\n",
       "    </tr>\n",
       "    <tr>\n",
       "      <th>B</th>\n",
       "      <td>1425</td>\n",
       "      <td>345</td>\n",
       "      <td>10250</td>\n",
       "    </tr>\n",
       "    <tr>\n",
       "      <th>C</th>\n",
       "      <td>1347</td>\n",
       "      <td>264</td>\n",
       "      <td>6487</td>\n",
       "    </tr>\n",
       "    <tr>\n",
       "      <th>D</th>\n",
       "      <td>1118</td>\n",
       "      <td>222</td>\n",
       "      <td>3967</td>\n",
       "    </tr>\n",
       "    <tr>\n",
       "      <th>E</th>\n",
       "      <td>715</td>\n",
       "      <td>179</td>\n",
       "      <td>1948</td>\n",
       "    </tr>\n",
       "    <tr>\n",
       "      <th>F</th>\n",
       "      <td>319</td>\n",
       "      <td>73</td>\n",
       "      <td>657</td>\n",
       "    </tr>\n",
       "    <tr>\n",
       "      <th>G</th>\n",
       "      <td>101</td>\n",
       "      <td>17</td>\n",
       "      <td>198</td>\n",
       "    </tr>\n",
       "  </tbody>\n",
       "</table>\n",
       "</div>"
      ],
      "text/plain": [
       "loan_status        Charged Off  Current  Fully Paid\n",
       "assgnd_loan_grade                                  \n",
       "A                          602       40        9443\n",
       "B                         1425      345       10250\n",
       "C                         1347      264        6487\n",
       "D                         1118      222        3967\n",
       "E                          715      179        1948\n",
       "F                          319       73         657\n",
       "G                          101       17         198"
      ]
     },
     "execution_count": 76,
     "metadata": {},
     "output_type": "execute_result"
    }
   ],
   "source": [
    "udf.assgnd_loan_grade.value_counts()\n",
    "def mapValues(x):\n",
    "    if (x == 'Charged Off'):\n",
    "        return -1\n",
    "    if (x == 'Fully Paid'):\n",
    "        return 1\n",
    "    if (x == 'Current'):\n",
    "        return 0\n",
    "udf['loan_status_value'] = udf['loan_status'].apply(mapValues)\n",
    "pd.pivot_table(udf,values='loan_status_value',index='assgnd_loan_grade',columns='loan_status',aggfunc='count')"
   ]
  },
  {
   "cell_type": "code",
   "execution_count": 77,
   "metadata": {},
   "outputs": [
    {
     "data": {
      "text/plain": [
       "loan_status_value\n",
       " 1    32950\n",
       "-1     5627\n",
       " 0     1140\n",
       "Name: count, dtype: int64"
      ]
     },
     "execution_count": 77,
     "metadata": {},
     "output_type": "execute_result"
    }
   ],
   "source": [
    "udf.loan_status_value.value_counts()"
   ]
  },
  {
   "cell_type": "code",
   "execution_count": 78,
   "metadata": {},
   "outputs": [
    {
     "data": {
      "text/html": [
       "<div>\n",
       "<style scoped>\n",
       "    .dataframe tbody tr th:only-of-type {\n",
       "        vertical-align: middle;\n",
       "    }\n",
       "\n",
       "    .dataframe tbody tr th {\n",
       "        vertical-align: top;\n",
       "    }\n",
       "\n",
       "    .dataframe thead th {\n",
       "        text-align: right;\n",
       "    }\n",
       "</style>\n",
       "<table border=\"1\" class=\"dataframe\">\n",
       "  <thead>\n",
       "    <tr style=\"text-align: right;\">\n",
       "      <th>loan_status</th>\n",
       "      <th>Charged Off</th>\n",
       "      <th>Current</th>\n",
       "      <th>Fully Paid</th>\n",
       "    </tr>\n",
       "    <tr>\n",
       "      <th>num_of_30plus_del_amt_for_2yrs</th>\n",
       "      <th></th>\n",
       "      <th></th>\n",
       "      <th></th>\n",
       "    </tr>\n",
       "  </thead>\n",
       "  <tbody>\n",
       "    <tr>\n",
       "      <th>0</th>\n",
       "      <td>4936.0</td>\n",
       "      <td>1019.0</td>\n",
       "      <td>29450.0</td>\n",
       "    </tr>\n",
       "    <tr>\n",
       "      <th>1</th>\n",
       "      <td>507.0</td>\n",
       "      <td>96.0</td>\n",
       "      <td>2700.0</td>\n",
       "    </tr>\n",
       "    <tr>\n",
       "      <th>2</th>\n",
       "      <td>130.0</td>\n",
       "      <td>14.0</td>\n",
       "      <td>543.0</td>\n",
       "    </tr>\n",
       "    <tr>\n",
       "      <th>3</th>\n",
       "      <td>35.0</td>\n",
       "      <td>8.0</td>\n",
       "      <td>177.0</td>\n",
       "    </tr>\n",
       "    <tr>\n",
       "      <th>4</th>\n",
       "      <td>13.0</td>\n",
       "      <td>2.0</td>\n",
       "      <td>47.0</td>\n",
       "    </tr>\n",
       "    <tr>\n",
       "      <th>5</th>\n",
       "      <td>3.0</td>\n",
       "      <td>1.0</td>\n",
       "      <td>18.0</td>\n",
       "    </tr>\n",
       "    <tr>\n",
       "      <th>6</th>\n",
       "      <td>1.0</td>\n",
       "      <td>NaN</td>\n",
       "      <td>9.0</td>\n",
       "    </tr>\n",
       "    <tr>\n",
       "      <th>7</th>\n",
       "      <td>1.0</td>\n",
       "      <td>NaN</td>\n",
       "      <td>3.0</td>\n",
       "    </tr>\n",
       "    <tr>\n",
       "      <th>8</th>\n",
       "      <td>1.0</td>\n",
       "      <td>NaN</td>\n",
       "      <td>1.0</td>\n",
       "    </tr>\n",
       "    <tr>\n",
       "      <th>9</th>\n",
       "      <td>NaN</td>\n",
       "      <td>NaN</td>\n",
       "      <td>1.0</td>\n",
       "    </tr>\n",
       "    <tr>\n",
       "      <th>11</th>\n",
       "      <td>NaN</td>\n",
       "      <td>NaN</td>\n",
       "      <td>1.0</td>\n",
       "    </tr>\n",
       "  </tbody>\n",
       "</table>\n",
       "</div>"
      ],
      "text/plain": [
       "loan_status                     Charged Off  Current  Fully Paid\n",
       "num_of_30plus_del_amt_for_2yrs                                  \n",
       "0                                    4936.0   1019.0     29450.0\n",
       "1                                     507.0     96.0      2700.0\n",
       "2                                     130.0     14.0       543.0\n",
       "3                                      35.0      8.0       177.0\n",
       "4                                      13.0      2.0        47.0\n",
       "5                                       3.0      1.0        18.0\n",
       "6                                       1.0      NaN         9.0\n",
       "7                                       1.0      NaN         3.0\n",
       "8                                       1.0      NaN         1.0\n",
       "9                                       NaN      NaN         1.0\n",
       "11                                      NaN      NaN         1.0"
      ]
     },
     "execution_count": 78,
     "metadata": {},
     "output_type": "execute_result"
    }
   ],
   "source": [
    "\n",
    "pd.pivot_table(udf,values='loan_status_value',index='num_of_30plus_del_amt_for_2yrs',columns='loan_status',aggfunc='count')\n",
    "\n"
   ]
  },
  {
   "cell_type": "code",
   "execution_count": 79,
   "metadata": {},
   "outputs": [
    {
     "data": {
      "image/png": "[encoded data removed]",
      "text/plain": [
       "<Figure size 1800x1000 with 8 Axes>"
      ]
     },
     "metadata": {},
     "output_type": "display_data"
    }
   ],
   "source": [
    "\n",
    "# Create the Figure and Axes objects\n",
    "fig, axes = plt.subplots(nrows=2, ncols=4, figsize=(18, 10))\n",
    "\n",
    "# Access each subplot and plot your data,\n",
    "axes[0, 0].plot([1, 2, 3], [4, 5, 6])\n",
    "axes[0, 0].set_title('Plot 1')\n",
    "\n",
    "axes[0, 1].plot([4, 5, 6], [7, 8, 9])\n",
    "axes[0, 1].set_title('Plot 2')\n",
    "\n",
    "axes[0, 2].plot([2, 4, 6], [1, 3, 5])\n",
    "axes[0, 2].set_title('Plot 3')\n",
    "\n",
    "axes[0, 3].plot([3, 6, 9], [2, 4, 6])\n",
    "axes[0, 3].set_title('Plot 4')\n",
    "\n",
    "axes[1, 0].plot([7, 8, 9], [1, 4, 7])\n",
    "axes[1, 0].set_title('Plot 5')\n",
    "\n",
    "axes[1, 1].plot([5, 7, 9], [2, 5, 8])\n",
    "axes[1, 1].set_title('Plot 6')\n",
    "\n",
    "axes[1, 2].plot([1, 3, 5], [6, 4, 2])\n",
    "axes[1, 2].set_title('Plot 7')\n",
    "\n",
    "axes[1, 3].plot([2, 4, 6], [9, 7, 5])\n",
    "axes[1, 3].set_title('Plot 8')\n",
    "\n",
    "# Adjust the spacing between subplots\n",
    "plt.tight_layout()\n",
    "\n",
    "# Show the Figure with all the subplots\n",
    "plt.show()\n"
   ]
  },
  {
   "cell_type": "code",
   "execution_count": 80,
   "metadata": {},
   "outputs": [
    {
     "data": {
      "text/plain": [
       "loan_listing_id  member_id\n",
       "1077501          1296599       Fully Paid\n",
       "1077430          1314167      Charged Off\n",
       "1077175          1313524       Fully Paid\n",
       "1076863          1277178       Fully Paid\n",
       "1075358          1311748          Current\n",
       "                                 ...     \n",
       "92187            92174         Fully Paid\n",
       "90665            90607         Fully Paid\n",
       "90395            90390         Fully Paid\n",
       "90376            89243         Fully Paid\n",
       "87023            86999         Fully Paid\n",
       "Name: loan_status, Length: 39717, dtype: object"
      ]
     },
     "execution_count": 80,
     "metadata": {},
     "output_type": "execute_result"
    }
   ],
   "source": [
    "udf['loan_status']"
   ]
  },
  {
   "cell_type": "code",
   "execution_count": null,
   "metadata": {},
   "outputs": [],
   "source": [
    "# Changing the loan status values\n",
    "# Removing Currently active loans and focusing on Fully Paid and Chargedoff Loan accounts.\n",
    "# Converting values from 'Fully Paid' to 0 and from 'Charged Off' to 1\n",
    "udf = udf[udf['loan_status']!='Current']\n",
    "udf['loan_status'] = udf['loan_status'].apply(lambda x: 0 if x=='Fully Paid' else 1)"
   ]
  },
  {
   "cell_type": "code",
   "execution_count": 83,
   "metadata": {},
   "outputs": [
    {
     "data": {
      "text/plain": [
       "Index(['curr_apprvd_loan_amnt', 'funded_amnt',\n",
       "       'total_committed_amnt_by_investors', 'loan_term_mnths',\n",
       "       'loan_interest_rate', 'mnthly_installment', 'assgnd_loan_grade',\n",
       "       'sub_grade', 'borrower_emplymnt_title', 'emplyment_len_yrs',\n",
       "       'home_ownership', 'annual_inc', 'incm_src_verification_status',\n",
       "       'loan_funded_mnth', 'loan_status', 'url', 'loan_desc_by_borrower',\n",
       "       'loan_purpose', 'loan_title', 'zip_code', 'addr_state',\n",
       "       'debt_to_income_ratio', 'num_of_30plus_del_amt_for_2yrs',\n",
       "       'mnth_earliest_crdt_line_opened', 'num_inq_past_6mnths',\n",
       "       'mths_since_last_delinq', 'mths_since_last_record',\n",
       "       'num_of_open_credit_accnts', 'num_derogtry_publc_recs', 'revol_bal',\n",
       "       'revolv_util_rate', 'num_total_curr_acc_lines_',\n",
       "       'outstanding_prinpl_amnt', 'outstanding_prinpl_investors',\n",
       "       'total_payments_received', 'total_payments_received_inv',\n",
       "       'total_principal_received', 'total_interest_received',\n",
       "       'total_late_fee_received', 'recoveries',\n",
       "       'collection_fee_post_chargeoff', 'last_mnth_was_pymnt_receivd',\n",
       "       'last_total_pymnt_amnt_receivd', 'next_payment_date',\n",
       "       'mnth_recent_credit_pulled', 'num_publc_rec_bankruptcies',\n",
       "       'loan_status_value'],\n",
       "      dtype='object')"
      ]
     },
     "execution_count": 83,
     "metadata": {},
     "output_type": "execute_result"
    }
   ],
   "source": [
    "udf.columns"
   ]
  },
  {
   "cell_type": "code",
   "execution_count": null,
   "metadata": {},
   "outputs": [],
   "source": []
  }
 ],
 "metadata": {
  "kernelspec": {
   "display_name": "base",
   "language": "python",
   "name": "python3"
  },
  "language_info": {
   "codemirror_mode": {
    "name": "ipython",
    "version": 3
   },
   "file_extension": ".py",
   "mimetype": "text/x-python",
   "name": "python",
   "nbconvert_exporter": "python",
   "pygments_lexer": "ipython3",
   "version": "3.9.6"
  },
  "orig_nbformat": 4
 },
 "nbformat": 4,
 "nbformat_minor": 2
}
